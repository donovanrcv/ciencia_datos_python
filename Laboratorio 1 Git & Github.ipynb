{
 "cells": [
  {
   "cell_type": "markdown",
   "id": "58918547-ba4b-4f2d-bc7a-5a1ed2ae0bd2",
   "metadata": {
    "tags": []
   },
   "source": [
    "<div align=\"center\">  <img src=\"https://www.galileo.edu/wp-content/uploads/2023/01/Galileo-Sin-slogan.png\" width=\"400\" height=\"200\" align=\"center\"> </div>"
   ]
  },
  {
   "cell_type": "markdown",
   "id": "7b951dfb-0af6-4f0c-b98f-d7e92301649e",
   "metadata": {
    "tags": []
   },
   "source": [
    "<div class=\"alert alert-block alert-success\">\n",
    "<center>\n",
    "<b><h1>UNIVERSIDAD GALILEO</h1></b>\n",
    "<b><h2>Maestría en Business Intelligence and Analytics</h2></b>\n",
    "<b><h3>Ciencia de Datos en Python</h3></b>\n",
    "</center>\n",
    "</div>"
   ]
  },
  {
   "cell_type": "code",
   "execution_count": null,
   "id": "292817bb-4cbe-447b-b253-c27cc4f98c9d",
   "metadata": {},
   "outputs": [],
   "source": []
  },
  {
   "cell_type": "markdown",
   "id": "cf45634d-249e-4538-a1aa-3b097602118e",
   "metadata": {},
   "source": [
    "# **Laboratorio 1**  - Donovan Caballeros"
   ]
  },
  {
   "cell_type": "code",
   "execution_count": null,
   "id": "d988186e-e65c-4029-83d8-593c3907310b",
   "metadata": {},
   "outputs": [],
   "source": []
  },
  {
   "cell_type": "markdown",
   "id": "b8d543e8-5ff1-4901-b3c2-da79cf80e827",
   "metadata": {},
   "source": [
    "<div class=\"alert alert-block alert-success\">\n",
    "<center><b><h1>Git & Github</h1></b></center>\n",
    "</div>"
   ]
  },
  {
   "cell_type": "markdown",
   "id": "3161523c-3ead-4694-9ccd-7bd913d030d2",
   "metadata": {},
   "source": [
    "<div align=\"center\">  <img src=\"https://git-scm.com/images/logos/downloads/Git-Logo-2Color.png\" width=\"200\" height=\"100\" align=\"center\"> </div>"
   ]
  },
  {
   "cell_type": "markdown",
   "id": "cbb53913-fc9f-497b-93ac-57bbfd01423f",
   "metadata": {
    "tags": []
   },
   "source": [
    "## *Qué es Git?*"
   ]
  },
  {
   "cell_type": "markdown",
   "id": "bf26c028-4743-41d1-b9f8-7b6f84961107",
   "metadata": {},
   "source": [
    "<div class=\"alert alert-block alert-info\">\n",
    "<b>Tip:</b> Software de control de versiones.\n",
    "</div>"
   ]
  },
  {
   "cell_type": "markdown",
   "id": "f685d19c-723c-4eb9-aa26-8268abb360ec",
   "metadata": {},
   "source": [
    "##### *Git es un software de control de versiones diseñado por Linus Torvalds, pensando en la eficiencia, la confiabilidad y compatibilidad del mantenimiento de versiones de aplicaciones cuando estas tienen un gran número de archivos de código fuente. Su propósito es llevar registro de los cambios en archivos de computadora incluyendo coordinar el trabajo que varias personas realizan sobre archivos compartidos en un repositorio de código.*\n",
    "\n",
    "##### *Al principio, Git se pensó como un motor de bajo nivel sobre el cual otros pudieran escribir la interfaz de usuario o front end como Cogito o StGIT. Sin embargo, Git se ha convertido desde entonces en un sistema de control de versiones con funcionalidad plena. Hay algunos proyectos de mucha relevancia que ya usan Git, en particular, el grupo de programación del núcleo Linux.*\n",
    "\n",
    "##### *El mantenimiento del software Git está actualmente supervisado por Junio Hamano, quien recibe contribuciones al código de alrededor de 280 programadores. En cuanto a derechos de autor Git es un software libre distribuible bajo los términos de la versión 2 de la Licencia Pública General de GNU.*"
   ]
  },
  {
   "cell_type": "markdown",
   "id": "92738846-9d19-45a6-b1d0-747af6e56ade",
   "metadata": {
    "tags": []
   },
   "source": [
    "<div class=\"alert alert-block alert-info\">\n",
    "<b>Características:</b> Basado en BitKeeper y en Monotone.\n",
    "</div>"
   ]
  },
  {
   "cell_type": "markdown",
   "id": "34c7ce25-c890-4416-a35b-ceea55875007",
   "metadata": {},
   "source": [
    "##### *Linus Torvalds buscaba un sistema distribuido que pudiera usar en forma semejante a BitKeeper, pero ninguno de los sistemas bajo software libre disponibles cumplía con sus requerimientos, especialmente en cuanto a desempeño. El diseño de Git mantiene una enorme cantidad de código distribuida y gestionada por mucha gente, que incide en numerosos detalles de rendimiento, y de la necesidad de rapidez en una primera implementación.*"
   ]
  },
  {
   "cell_type": "markdown",
   "id": "24526e75-a40e-4d0d-a70d-39cf820838e8",
   "metadata": {},
   "source": [
    "<div class=\"alert alert-block alert-info\">\n",
    "<b>Flujo de trabajo:</b> Git plantea una gran libertad en la forma de trabajar en torno a un proyecto.\n",
    "</div>"
   ]
  },
  {
   "cell_type": "markdown",
   "id": "82a28b28-b416-461e-b916-3f22ebd740d2",
   "metadata": {},
   "source": [
    "##### *Git plantea una gran libertad en la forma de trabajar en torno a un proyecto. Sin embargo, para coordinar el trabajo de un grupo de personas en torno a un proyecto es necesario acordar como se va a trabajar con Git. A estos acuerdos se les llama flujo de trabajo.*\n",
    "\n",
    "##### *Un flujo de trabajo de Git es una fórmula o una recomendación acerca del uso de Git para realizar trabajo de forma uniforme y productiva. Los flujos de trabajo más populares son git-flow, GitHub-flow, GitLab Flow y One Flow.*"
   ]
  },
  {
   "cell_type": "markdown",
   "id": "d956f22a-95ef-48c4-b1e4-ad8dedca25d2",
   "metadata": {
    "tags": []
   },
   "source": [
    "<div align=\"center\">   <img id=\"fancybox-img\" src=\"https://1000logos.net/wp-content/uploads/2021/05/GitHub-logo.png\" alt=\"GitHub logo\" width=\"400\" height=\"200\" > </div>"
   ]
  },
  {
   "cell_type": "markdown",
   "id": "afcac9d7-5e35-4022-ad0e-ea75078aae4a",
   "metadata": {
    "tags": []
   },
   "source": [
    "## *Qué es Github?*"
   ]
  },
  {
   "cell_type": "markdown",
   "id": "0e6d0a4a-8534-4191-bc17-2a9447db39a8",
   "metadata": {
    "tags": []
   },
   "source": [
    "<div class=\"alert alert-block alert-info\">\n",
    "<b>GitHub:</b>  Es una forja (plataforma de desarrollo colaborativo) .\n",
    "</div>"
   ]
  },
  {
   "cell_type": "markdown",
   "id": "ee79a0ee-6958-4af6-bd28-a5371d97c2f7",
   "metadata": {
    "tags": []
   },
   "source": [
    "##### *GitHub es una forja (plataforma de desarrollo colaborativo) para alojar proyectos utilizando el sistema de control de versiones Git. Se utiliza principalmente para la creación de código fuente de programas de ordenador. El software que opera GitHub fue escrito en Ruby on Rails. Desde enero de 2010, GitHub opera bajo el nombre de GitHub, Inc. Anteriormente era conocida como Logical Awesome LLC. El código de los proyectos alojados en GitHub se almacena generalmente de forma pública.*\n",
    "\n",
    "##### *El 4 de junio de 2018 Microsoft compró GitHub por la cantidad de 7500 millones de dólares. Al inicio, el cambio de propietario generó preocupaciones y la salida de algunos proyectos de este sitio; sin embargo, no fueron representativos. GitHub continúa siendo la plataforma más importante de colaboración para proyectos de código abierto.*"
   ]
  },
  {
   "cell_type": "markdown",
   "id": "59a8ffda-0ff4-4249-9230-e62a3746b98c",
   "metadata": {
    "tags": []
   },
   "source": [
    "<div class=\"alert alert-block alert-info\">\n",
    "<b>Historia:</b>  Github fue desarrollado por Chris Wanstrath, P. J. Hyett, Tom Preston-Werner y Scott Chacon usando Ruby on Rails, y empezó en 2008.\n",
    "</div>"
   ]
  },
  {
   "cell_type": "markdown",
   "id": "089aad81-506f-406d-b53a-11f8464d5f99",
   "metadata": {},
   "source": [
    "##### *El 24 de febrero de 2009, el equipo de GitHub anunció en una charla en las oficinas centrales de Yahoo!, que en su primer año habían logrado acumular 46.000 repositorios públicos, 17.000 de los cuales fueron creados en solo 1 mes. De los restantes, 6.200 eran forks y 4.600 se habían fusionado.*\n",
    "\n",
    "##### *El 5 de julio de 2009, anunciaron la meta de 100.000 usuarios. Y casi un mes más tarde, en otra charla en las oficinas de Yahoo! anunciaron que habían crecido hasta los 90.000 repositorios, llegando a los 135.000 si se contaban los forks.*\n",
    "\n",
    "##### *El 25 de julio de 2010, GitHub anunció que había llegado al millón de repositorios. Llegando a los 2 millones el 20 de abril de 2012.*\n",
    "\n",
    "##### *El 2 de junio de 2011, el portal ReadWriteWeb reportó que GitHub había sobrepasado a SourceForge y Google Code en total de commits.*\n",
    "\n",
    "##### *El 9 de julio de 2012, Peter Levine dijo que los beneficios de GitHub habían crecido un 300% anualmente desde 2008, siendo provechoso durante casi todo el trayecto.*\n",
    "\n",
    "##### *El 16 de enero de 2013, sobrepasaron los 3 millones de usuarios registrados y alojaban ya más de 5 millones de repositorios. Llegando a los 10 millones el 23 de diciembre de 2013.*\n",
    "\n",
    "##### *En junio de 2015, GitHub abrió su primera oficina fuera de Estados Unidos, en Japón.*\n",
    "\n",
    "##### *El 29 de julio de 2015, levantaron una ronda de inversión de 250 millones de dólares, liderada por Sequoia Capital. Esta ronda hizo que la valoración de la compañía ascendiera a los 2 billones de dólares.*\n",
    "\n",
    "##### *En 2016, Forbes Cloud 100 listó a GitHub como la número 14.*\n",
    "\n",
    "##### *El 28 de febrero de 2018, GitHub fue víctima del segundo mayor ataque de denegación de servicio (DDoS) de la historia. Llegando a recibir un tráfico de 1.35 terabits por segundo.*\n",
    "\n",
    "##### *En 2018 (4 de junio de 2018 - 26 de octubre 2018), Microsoft anunció y compró respectivamente la compañía por un importe de más de 7000 millones de dólares.*\n",
    "\n",
    "##### *El 28 de julio de 2020 GitHub hizo pública su hoja de ruta donde da a conocer todos los nuevos avances y los desarrollos futuros que prepara esta plataforma.*"
   ]
  },
  {
   "cell_type": "markdown",
   "id": "431de8a6-d557-42e4-970e-bbaa28ac9b98",
   "metadata": {},
   "source": [
    "<div class=\"alert alert-block alert-info\">\n",
    "<b>Características:</b>  Repositorios.\n",
    "</div>"
   ]
  },
  {
   "cell_type": "markdown",
   "id": "6a1c0261-e9a0-4b66-93a2-44393c093c74",
   "metadata": {},
   "source": [
    "##### *Los repositorios son, como su propio nombre indica, lugares virtuales alojados en la nube en donde los usuarios pueden almacenar cualquier tipo de archivo. Suelen usarse para guardar archivos de texto que representan código en distintos lenguajes de programación, los cuales a su vez conforman un programa o aplicación. Este es el servicio principal que ofrece GitHub: repositorios en donde los usuarios pueden almacenar el código de sus aplicaciones, ya sea de forma pública, privada o a través de una organización.*\n",
    "\n",
    "##### *Para ser identificados, los repositorios muestran información relevante, como la descripción del proyecto, los lenguajes de programación usados o las etiquetas de búsqueda. Un aspecto muy importante de la información de los repositorios es el archivo «README», el cual los desarrolladores pueden crear (ya sea en formato Markdown o en formato de texto simple) para describir su proyecto a fondo. Por lo general, este tipo de archivo suele contener una descripción, capturas de pantalla del programa, instrucciones de instalación y la declaración de la licencia.*\n",
    "\n",
    "##### *En la pestaña de configuración, los desarrolladores pueden cambiar aspectos generales del repositorio, así como aspectos más avanzados. Entre los aspectos más avanzados se incluye el acceso al repositorio (agregar colaboradores y determinar quiénes pueden interactual con él), la automatización del y gracias al repositorio (las ramas y sus reglas, GitHub Actions, webhooks, los ambientes y GitHub Pages), la seguridad del repositorio (la seguridad y el análisis del código mediante alertas de bots y actions, las llaves de despliegue y los secretos cifrados) y, por último, las integraciones, que incluyen el uso de las aplicaciones instaladas en GitHub y las notificaciones por correo electrónico.*"
   ]
  },
  {
   "cell_type": "markdown",
   "id": "9d6ec8f5-6375-41ea-b3aa-0f697cdb14b5",
   "metadata": {
    "tags": []
   },
   "source": [
    "<div class=\"alert alert-block alert-info\">\n",
    "<b>Referencias:</b><br>https://www.ibm.com/docs/en/watson-studio-local/1.2.3?topic=notebooks-markdown-jupyter-cheatsheet\n",
    "<br>https://jupyter-notebook.readthedocs.io/en/stable/examples/Notebook/Working%20With%20Markdown%20Cells.html\n",
    "<br> https://es.wikipedia.org/wiki/Git    \n",
    "<br>https://es.wikipedia.org/wiki/GitHub\n",
    "    \n",
    "</div>"
   ]
  }
 ],
 "metadata": {
  "kernelspec": {
   "display_name": "Python 3 (ipykernel)",
   "language": "python",
   "name": "python3"
  },
  "language_info": {
   "codemirror_mode": {
    "name": "ipython",
    "version": 3
   },
   "file_extension": ".py",
   "mimetype": "text/x-python",
   "name": "python",
   "nbconvert_exporter": "python",
   "pygments_lexer": "ipython3",
   "version": "3.11.5"
  }
 },
 "nbformat": 4,
 "nbformat_minor": 5
}
